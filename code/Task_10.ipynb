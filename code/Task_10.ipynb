{
  "nbformat": 4,
  "nbformat_minor": 0,
  "metadata": {
    "colab": {
      "provenance": []
    },
    "kernelspec": {
      "name": "python3",
      "display_name": "Python 3"
    },
    "language_info": {
      "name": "python"
    }
  },
  "cells": [
    {
      "cell_type": "code",
      "execution_count": null,
      "metadata": {
        "id": "dfiWPjfJWtW4"
      },
      "outputs": [],
      "source": [
        "import os\n",
        "from PIL import Image\n",
        "import google.generativeai as genai"
      ]
    },
    {
      "cell_type": "code",
      "source": [
        "# Set the API key directly\n",
        "from google.colab import userdata\n",
        "genai.configure(api_key=userdata.get('GOOGLE_API_KEY'))"
      ],
      "metadata": {
        "id": "Ko71nq5KaHGO"
      },
      "execution_count": null,
      "outputs": []
    },
    {
      "cell_type": "code",
      "source": [
        "# Function to load the Gemini model and get a response\n",
        "def get_gemini_response(input_prompt, image, question):\n",
        "    model = genai.GenerativeModel('gemini-1.5-flash')\n",
        "    response = model.generate_content([input_prompt, image[0], question])\n",
        "    return response.text\n"
      ],
      "metadata": {
        "id": "XdPP2c4oaAV0"
      },
      "execution_count": null,
      "outputs": []
    },
    {
      "cell_type": "code",
      "source": [
        "# Function to load and process the image\n",
        "def input_image_setup(image_path):\n",
        "    if not os.path.exists(image_path):\n",
        "        raise FileNotFoundError(f\"The file does not exist.\")\n",
        "\n",
        "    # Open the image and convert to bytes\n",
        "    with open(image_path, \"rb\") as file:\n",
        "        bytes_data = file.read()\n",
        "\n",
        "    image_parts = [\n",
        "        {\n",
        "            \"mime_type\": \"image/jpeg\",\n",
        "            \"data\": bytes_data\n",
        "        }\n",
        "    ]\n",
        "    return image_parts\n",
        "\n"
      ],
      "metadata": {
        "id": "hrB1gApVaAfs"
      },
      "execution_count": null,
      "outputs": []
    },
    {
      "cell_type": "code",
      "source": [
        "# Main Function\n",
        "def main():\n",
        "    image_path = \"/content/drive/MyDrive/Task3/invoices/invoice_pages-to-jpg-0001.jpg\"\n",
        "\n",
        "    try:\n",
        "        image_data = input_image_setup(image_path)\n",
        "    except FileNotFoundError as e:\n",
        "        print(e)\n",
        "        return\n",
        "\n",
        "    input_prompt = \"\"\"\n",
        "        You are an expert in understanding invoices.\n",
        "        You will receive input images as invoices &\n",
        "        You are given with the data and user query.\n",
        "        You just need to answer based on the information provided.\n",
        "        Answer in a conversational manner, as if talking to a human.\n",
        "        Any questions outside the information in the invoice will be ignored and not answered.\n",
        "        Thank you!\n",
        "    \"\"\"\n",
        "\n",
        "    while True:\n",
        "        # Ask the user for a question\n",
        "        print(\"\\nAsk a question about the invoice:\")\n",
        "        question = input()\n",
        "\n",
        "        # Get the response from the Gemini model\n",
        "        response = get_gemini_response(input_prompt, image_data, question)\n",
        "\n",
        "        # Display the response\n",
        "        print(response)\n",
        "\n",
        "        # Ask if the user wants to ask another question\n",
        "        continue_prompt = input(\"\\nDo you want to ask another question? (yes/no): \").strip().lower()\n",
        "        if continue_prompt not in (\"yes\", \"y\"):\n",
        "            print(\"\\nGoodbye!\")\n",
        "            break\n"
      ],
      "metadata": {
        "id": "fGWmXC90aAoT"
      },
      "execution_count": null,
      "outputs": []
    },
    {
      "cell_type": "code",
      "source": [
        "# Run the program\n",
        "if __name__ == \"__main__\":\n",
        "    main()\n"
      ],
      "metadata": {
        "colab": {
          "base_uri": "https://localhost:8080/",
          "height": 295
        },
        "id": "T_pZ4wnAaAwl",
        "outputId": "3823318c-a28a-4a7a-f545-f23b82b0e32a"
      },
      "execution_count": null,
      "outputs": [
        {
          "output_type": "stream",
          "name": "stdout",
          "text": [
            "\n",
            "Ask a question about the invoice:\n",
            "What was the order date?\n",
            "The order date was 26.09.2024.\n",
            "\n",
            "\n",
            "Do you want to ask another question? (yes/no): yes\n",
            "\n",
            "Ask a question about the invoice:\n",
            "What was the delivery address?\n",
            "The delivery address was Viraj Tank, E/6, Sastrinagar, RAJKOT, GUJARAT, 360004, IN.\n",
            "\n",
            "\n",
            "Do you want to ask another question? (yes/no): no\n",
            "\n",
            "Goodbye!\n"
          ]
        }
      ]
    }
  ]
}