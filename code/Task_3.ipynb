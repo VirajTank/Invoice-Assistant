{
  "nbformat": 4,
  "nbformat_minor": 0,
  "metadata": {
    "colab": {
      "provenance": []
    },
    "kernelspec": {
      "name": "python3",
      "display_name": "Python 3"
    },
    "language_info": {
      "name": "python"
    }
  },
  "cells": [
    {
      "cell_type": "code",
      "source": [
        "# Learning How Text Recognition Engine Works\n",
        "!pip install opencv-python pytesseract -q\n",
        "!apt-get install tesseract-ocr -q\n"
      ],
      "metadata": {
        "colab": {
          "base_uri": "https://localhost:8080/"
        },
        "id": "ZMua-Hu4vYKf",
        "outputId": "d7131db5-7816-4922-85eb-c55c0971ead9"
      },
      "execution_count": null,
      "outputs": [
        {
          "output_type": "stream",
          "name": "stdout",
          "text": [
            "Reading package lists...\n",
            "Building dependency tree...\n",
            "Reading state information...\n",
            "tesseract-ocr is already the newest version (4.1.1-2.1build1).\n",
            "0 upgraded, 0 newly installed, 0 to remove and 49 not upgraded.\n"
          ]
        }
      ]
    },
    {
      "cell_type": "code",
      "source": [
        "import cv2\n",
        "import pytesseract"
      ],
      "metadata": {
        "id": "lvLMoy6cvb9K"
      },
      "execution_count": null,
      "outputs": []
    },
    {
      "cell_type": "code",
      "source": [
        "# Function to extract text from an image\n",
        "def extract_text_from_image(image_path):\n",
        "    # Read the image using OpenCV\n",
        "    img = cv2.imread(image_path)\n",
        "\n",
        "    # Use pytesseract to extract text from the pre-processed image\n",
        "    text = pytesseract.image_to_string(img)\n",
        "\n",
        "    return text"
      ],
      "metadata": {
        "id": "ARW1aVGMvfIq"
      },
      "execution_count": null,
      "outputs": []
    },
    {
      "cell_type": "code",
      "source": [
        "# Image path\n",
        "image_path = '/content/drive/MyDrive/Task3/test_image/Final Printed Text Image.jpg'"
      ],
      "metadata": {
        "id": "TNcQst3lvj-L"
      },
      "execution_count": null,
      "outputs": []
    },
    {
      "cell_type": "code",
      "source": [
        "# Extract text\n",
        "extracted_text = extract_text_from_image(image_path)\n",
        "\n",
        "# Display the extracted text\n",
        "print(\"Extracted Text:\")\n",
        "print(extracted_text)"
      ],
      "metadata": {
        "colab": {
          "base_uri": "https://localhost:8080/"
        },
        "id": "UGczKVqIvmQA",
        "outputId": "9c05bdc9-fdb4-4359-e174-81cffdfbf06c"
      },
      "execution_count": null,
      "outputs": [
        {
          "output_type": "stream",
          "name": "stdout",
          "text": [
            "Extracted Text:\n",
            "Text Extraction From image Close\n",
            "\n",
            "| Hi Friend’s,\n",
            "I am Viraj Tank\n",
            "\n",
            "Here I am trying to extract text from image of\n",
            "\n",
            "this note for testing my python script.\n",
            "\f\n"
          ]
        }
      ]
    }
  ]
}