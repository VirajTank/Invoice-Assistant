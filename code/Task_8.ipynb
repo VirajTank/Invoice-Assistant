{
  "nbformat": 4,
  "nbformat_minor": 0,
  "metadata": {
    "colab": {
      "provenance": []
    },
    "kernelspec": {
      "name": "python3",
      "display_name": "Python 3"
    },
    "language_info": {
      "name": "python"
    }
  },
  "cells": [
    {
      "cell_type": "code",
      "source": [
        "# Invoice Data Extraction and Organising Using OCR and Regex"
      ],
      "metadata": {
        "id": "tX2Vlbmr5rAa"
      },
      "execution_count": null,
      "outputs": []
    },
    {
      "cell_type": "code",
      "source": [
        "!pip install pytesseract -q\n",
        "!pip install pillow -q\n",
        "!pip install paddleocr -q\n",
        "!pip install paddlepaddle -q\n",
        "!sudo apt install tesseract-ocr -q"
      ],
      "metadata": {
        "colab": {
          "base_uri": "https://localhost:8080/"
        },
        "id": "d2YQuJ3XR8uE",
        "outputId": "e7247ff9-b068-4a52-a8af-59bc80026800"
      },
      "execution_count": null,
      "outputs": [
        {
          "output_type": "stream",
          "name": "stdout",
          "text": [
            "Reading package lists...\n",
            "Building dependency tree...\n",
            "Reading state information...\n",
            "tesseract-ocr is already the newest version (4.1.1-2.1build1).\n",
            "0 upgraded, 0 newly installed, 0 to remove and 49 not upgraded.\n"
          ]
        }
      ]
    },
    {
      "cell_type": "code",
      "source": [
        "# \"/content/drive/MyDrive/Task3/invoices/printable_invoice.pdf\"\n",
        "# \"/content/drive/MyDrive/Task3/invoices/printable_invoice_pages-to-jpg-0001.jpg\""
      ],
      "metadata": {
        "id": "Q5yO3VlLiair"
      },
      "execution_count": null,
      "outputs": []
    },
    {
      "cell_type": "code",
      "source": [
        "# Import Libraries\n",
        "import pytesseract\n",
        "from PIL import Image\n",
        "import re\n",
        "import json\n",
        "from paddleocr import PaddleOCR"
      ],
      "metadata": {
        "id": "ZVfFAuHei05s"
      },
      "execution_count": null,
      "outputs": []
    },
    {
      "cell_type": "code",
      "source": [
        "# Function to extract text using Tesseract OCR\n",
        "def extract_text_tesseract(image):\n",
        "    return pytesseract.image_to_string(image)"
      ],
      "metadata": {
        "id": "StjqGq_Bqq7P"
      },
      "execution_count": null,
      "outputs": []
    },
    {
      "cell_type": "code",
      "source": [
        "# Function to extract text using PaddleOCR\n",
        "def extract_text_paddleocr(image_path):\n",
        "    ocr = PaddleOCR(use_angle_cls=True, lang='en')\n",
        "    result = ocr.ocr(image_path)\n",
        "    return \"\\n\".join([line[1][0] for line in result[0]])"
      ],
      "metadata": {
        "id": "M9iMdBERqrCj"
      },
      "execution_count": null,
      "outputs": []
    },
    {
      "cell_type": "code",
      "source": [
        "# Function to extract data using regex\n",
        "def extract_data_using_regex(text, patterns):\n",
        "    extracted_data = {}\n",
        "    for field, pattern in patterns.items():\n",
        "        match = re.search(pattern, text)\n",
        "        extracted_data[field] = match.group(1).strip() if match else None\n",
        "    return extracted_data"
      ],
      "metadata": {
        "id": "lSSpzXI6qfNY"
      },
      "execution_count": null,
      "outputs": []
    },
    {
      "cell_type": "code",
      "source": [
        "# Function to save the extracted data to JSON and display it on the console\n",
        "def save_to_json(data, file_path):\n",
        "    with open(file_path, \"w\") as json_file:\n",
        "        json.dump(data, json_file, indent=4)\n",
        "    print(\"Data saved to json file\")\n",
        "    print(json.dumps(data, indent=4))"
      ],
      "metadata": {
        "id": "G5RJVOWosAz9"
      },
      "execution_count": null,
      "outputs": []
    },
    {
      "cell_type": "code",
      "source": [
        "# Path to the image on Google Drive\n",
        "image_path = \"/content/drive/MyDrive/Task3/invoices/invoice_pages-to-jpg-0001.jpg\"\n",
        "output_file_path = \"/content/drive/MyDrive/Colab Notebooks/task8.json\"\n",
        "\n",
        "# Load the image\n",
        "image = Image.open(image_path)"
      ],
      "metadata": {
        "id": "YwCmhJTMqfc5"
      },
      "execution_count": null,
      "outputs": []
    },
    {
      "cell_type": "code",
      "source": [
        "# Extract text using Tesseract OCR\n",
        "extracted_text_tesseract = extract_text_tesseract(image)\n",
        "\n",
        "# Extract text using PaddleOCR\n",
        "extracted_text_paddle = extract_text_paddleocr(image_path)"
      ],
      "metadata": {
        "colab": {
          "base_uri": "https://localhost:8080/"
        },
        "id": "EPyq4q3FqfkP",
        "outputId": "8927bbaf-f368-4c3a-f298-55fc0b56a51b"
      },
      "execution_count": null,
      "outputs": [
        {
          "output_type": "stream",
          "name": "stdout",
          "text": [
            "[2025/01/21 09:58:21] ppocr DEBUG: Namespace(help='==SUPPRESS==', use_gpu=False, use_xpu=False, use_npu=False, use_mlu=False, ir_optim=True, use_tensorrt=False, min_subgraph_size=15, precision='fp32', gpu_mem=500, gpu_id=0, image_dir=None, page_num=0, det_algorithm='DB', det_model_dir='/root/.paddleocr/whl/det/en/en_PP-OCRv3_det_infer', det_limit_side_len=960, det_limit_type='max', det_box_type='quad', det_db_thresh=0.3, det_db_box_thresh=0.6, det_db_unclip_ratio=1.5, max_batch_size=10, use_dilation=False, det_db_score_mode='fast', det_east_score_thresh=0.8, det_east_cover_thresh=0.1, det_east_nms_thresh=0.2, det_sast_score_thresh=0.5, det_sast_nms_thresh=0.2, det_pse_thresh=0, det_pse_box_thresh=0.85, det_pse_min_area=16, det_pse_scale=1, scales=[8, 16, 32], alpha=1.0, beta=1.0, fourier_degree=5, rec_algorithm='SVTR_LCNet', rec_model_dir='/root/.paddleocr/whl/rec/en/en_PP-OCRv4_rec_infer', rec_image_inverse=True, rec_image_shape='3, 48, 320', rec_batch_num=6, max_text_length=25, rec_char_dict_path='/usr/local/lib/python3.11/dist-packages/paddleocr/ppocr/utils/en_dict.txt', use_space_char=True, vis_font_path='./doc/fonts/simfang.ttf', drop_score=0.5, e2e_algorithm='PGNet', e2e_model_dir=None, e2e_limit_side_len=768, e2e_limit_type='max', e2e_pgnet_score_thresh=0.5, e2e_char_dict_path='./ppocr/utils/ic15_dict.txt', e2e_pgnet_valid_set='totaltext', e2e_pgnet_mode='fast', use_angle_cls=True, cls_model_dir='/root/.paddleocr/whl/cls/ch_ppocr_mobile_v2.0_cls_infer', cls_image_shape='3, 48, 192', label_list=['0', '180'], cls_batch_num=6, cls_thresh=0.9, enable_mkldnn=False, cpu_threads=10, use_pdserving=False, warmup=False, sr_model_dir=None, sr_image_shape='3, 32, 128', sr_batch_num=1, draw_img_save_dir='./inference_results', save_crop_res=False, crop_res_save_dir='./output', use_mp=False, total_process_num=1, process_id=0, benchmark=False, save_log_path='./log_output/', show_log=True, use_onnx=False, return_word_box=False, output='./output', table_max_len=488, table_algorithm='TableAttn', table_model_dir=None, merge_no_span_structure=True, table_char_dict_path=None, formula_algorithm='LaTeXOCR', formula_model_dir=None, formula_char_dict_path=None, formula_batch_num=1, layout_model_dir=None, layout_dict_path=None, layout_score_threshold=0.5, layout_nms_threshold=0.5, kie_algorithm='LayoutXLM', ser_model_dir=None, re_model_dir=None, use_visual_backbone=True, ser_dict_path='../train_data/XFUND/class_list_xfun.txt', ocr_order_method=None, mode='structure', image_orientation=False, layout=True, table=True, formula=False, ocr=True, recovery=False, recovery_to_markdown=False, use_pdf2docx_api=False, invert=False, binarize=False, alphacolor=(255, 255, 255), lang='en', det=True, rec=True, type='ocr', savefile=False, ocr_version='PP-OCRv4', structure_version='PP-StructureV2')\n",
            "[2025/01/21 09:58:23] ppocr DEBUG: dt_boxes num : 75, elapsed : 0.3587462902069092\n",
            "[2025/01/21 09:58:23] ppocr DEBUG: cls num  : 75, elapsed : 0.22802472114562988\n",
            "[2025/01/21 09:58:31] ppocr DEBUG: rec_res num  : 75, elapsed : 7.235837459564209\n"
          ]
        }
      ]
    },
    {
      "cell_type": "code",
      "source": [
        "# Define regex patterns for fields\n",
        "patterns = {\n",
        "    \"invoice_number\": r\"Invoice Number\\s*:\\s*(\\S+)\",\n",
        "    \"billing_address\": r\"Billing Address\\s*:\\s*([\\s\\S]*?)\\n\\n\",\n",
        "    \"shipping_address\": r\"Shipping Address\\s*:\\s*([\\s\\S]*?)\\n\\n\",\n",
        "    \"order_number\": r\"Order Number\\s*:\\s*(\\S+)\",\n",
        "    \"order_date\": r\"Order Date\\s*:\\s*(\\S+)\",\n",
        "    \"invoice_date\": r\"Invoice Date\\s*:\\s*(\\S+)\",\n",
        "    \"pan_no\": r\"PAN No\\s*:\\s*(\\S+)\",\n",
        "    \"gst_no\": r\"GST Registration No\\s*:\\s*(\\S+)\",\n",
        "    \"total_amount\": r\"Total Amount\\s*:\\s*₹([\\d,]+(?:\\.\\d{2})?)\",\n",
        "}"
      ],
      "metadata": {
        "id": "FNalmQnHqfri"
      },
      "execution_count": null,
      "outputs": []
    },
    {
      "cell_type": "code",
      "source": [
        "# Organize data using regex from Tesseract OCR\n",
        "extracted_data_tesseract = extract_data_using_regex(extracted_text_tesseract, patterns)\n",
        "\n",
        "# Organize data using regex from PaddleOCR\n",
        "extracted_data_paddle = extract_data_using_regex(extracted_text_paddle, patterns)\n"
      ],
      "metadata": {
        "id": "BENL9XxrqfzY"
      },
      "execution_count": null,
      "outputs": []
    },
    {
      "cell_type": "code",
      "source": [
        "# Combine results from both OCRs\n",
        "comparison_data = {\n",
        "    \"Tesseract OCR\": extracted_data_tesseract,\n",
        "    \"PaddleOCR\": extracted_data_paddle\n",
        "}\n",
        "\n",
        "# Save the extracted to .json file\n",
        "save_to_json(comparison_data, output_file_path)\n"
      ],
      "metadata": {
        "colab": {
          "base_uri": "https://localhost:8080/"
        },
        "id": "SiAv6z9xqf7D",
        "outputId": "bd836a45-f700-46ed-f0a2-50773a5a19b0"
      },
      "execution_count": null,
      "outputs": [
        {
          "output_type": "stream",
          "name": "stdout",
          "text": [
            "Data saved to json file\n",
            "{\n",
            "    \"Tesseract OCR\": {\n",
            "        \"invoice_number\": \"AMD2-911128\",\n",
            "        \"billing_address\": \"CLICKTECH RETAIL PRIVATE LIMITED Viraj Tank\\n\\u201d Plot no. 120 X and part portion of plot no. 119 E/6, Sastrinagar\\nW2, Gallops Industrial Park 1, Village Rajoda, RAJKOT, GUJARAT, 360004\\nTaluka Bavla, District Anmedabad IN\\nAhmedabad, GUJARAT, 382220 State/UT Code: 24\\nIN\",\n",
            "        \"shipping_address\": \"PAN No: AAJCC9783E Viraj Tank\\nGST Registration No: 24AAJCC9783E1ZD Viraj Tank\",\n",
            "        \"order_number\": \"404-0944623-8329157\",\n",
            "        \"order_date\": \"26.09.2024\",\n",
            "        \"invoice_date\": \"26.09.2024\",\n",
            "        \"pan_no\": \"AAJCC9783E\",\n",
            "        \"gst_no\": \"24AAJCC9783E1ZD\",\n",
            "        \"total_amount\": null\n",
            "    },\n",
            "    \"PaddleOCR\": {\n",
            "        \"invoice_number\": \"AMD2-911128\",\n",
            "        \"billing_address\": null,\n",
            "        \"shipping_address\": null,\n",
            "        \"order_number\": \"404-0944623-8329157\",\n",
            "        \"order_date\": \"26.09.2024\",\n",
            "        \"invoice_date\": \"26.09.2024\",\n",
            "        \"pan_no\": \"AAJCC9783E\",\n",
            "        \"gst_no\": \"24AAJCC9783E1ZD\",\n",
            "        \"total_amount\": null\n",
            "    }\n",
            "}\n"
          ]
        }
      ]
    }
  ]
}